{
 "cells": [
  {
   "cell_type": "markdown",
   "metadata": {},
   "source": [
    "# Read a CSV \n",
    "Read a big CSV (1.5M)\n",
    "    * Open file\n",
    "    * Create CSV reader\n",
    "    * Skip headers\n",
    "    * For each row append to data"
   ]
  },
  {
   "cell_type": "code",
   "execution_count": 21,
   "metadata": {},
   "outputs": [
    {
     "name": "stdout",
     "output_type": "stream",
     "text": [
      "1500000\n",
      "['Sub-Saharan Africa', 'South Africa', 'Fruits', 'Offline', 'M', '7/27/2012', '443368995', '7/28/2012', '1593', '9.33', '6.92', '14862.69', '11023.56', '3839.13']\n",
      "Tiempo de ejecución 5.728592487 segundos\n"
     ]
    }
   ],
   "source": [
    "import csv\n",
    "import time\n",
    "\n",
    "tic = time.process_time()\n",
    "data = []\n",
    "with open('/home/tparicio/Documentos/Jupyter Notebook/1500000 Sales Records.csv') as f:\n",
    "    reader = csv.reader(f)\n",
    "    # ignore first line -- headers\n",
    "    next(reader)\n",
    "    for row in reader:\n",
    "        data.append(row)\n",
    "\n",
    "# print how many results have data\n",
    "print(len(data))\n",
    "# print first result as sample\n",
    "print(data[0])\n",
    "# print execution time\n",
    "seconds = time.process_time() - tic\n",
    "print('Tiempo de ejecución {} segundos'.format(seconds))"
   ]
  },
  {
   "cell_type": "markdown",
   "metadata": {},
   "source": [
    "# Alternative loop\n",
    "Same CSV process with a simplificated loop"
   ]
  },
  {
   "cell_type": "code",
   "execution_count": 22,
   "metadata": {},
   "outputs": [
    {
     "name": "stdout",
     "output_type": "stream",
     "text": [
      "1500000\n",
      "['Sub-Saharan Africa', 'South Africa', 'Fruits', 'Offline', 'M', '7/27/2012', '443368995', '7/28/2012', '1593', '9.33', '6.92', '14862.69', '11023.56', '3839.13']\n",
      "Tiempo de ejecución 5.383352790999993 segundos\n"
     ]
    }
   ],
   "source": [
    "tic = time.process_time()\n",
    "data = []\n",
    "with open('/home/tparicio/Documentos/Jupyter Notebook/1500000 Sales Records.csv') as f:\n",
    "    reader = csv.reader(f)\n",
    "    # ignore first line -- headers\n",
    "    next(reader)\n",
    "    data = [r for r in reader]\n",
    "\n",
    "# print how many results have data\n",
    "print(len(data))\n",
    "# print first result as sample\n",
    "print(data[0])\n",
    "# print execution time\n",
    "seconds = time.process_time() - tic\n",
    "print('Tiempo de ejecución {} segundos'.format(seconds))"
   ]
  },
  {
   "cell_type": "markdown",
   "metadata": {},
   "source": [
    "# Reading CSV as a dictionary\n",
    "csv library include a *DictReader* for read a CSV file as dictionary.\n",
    "Execution will be slower than before"
   ]
  },
  {
   "cell_type": "code",
   "execution_count": 26,
   "metadata": {},
   "outputs": [
    {
     "name": "stdout",
     "output_type": "stream",
     "text": [
      "1500000\n",
      "OrderedDict([('Region', 'Sub-Saharan Africa'), ('Country', 'South Africa'), ('Item Type', 'Fruits'), ('Sales Channel', 'Offline'), ('Order Priority', 'M'), ('Order Date', '7/27/2012'), ('Order ID', '443368995'), ('Ship Date', '7/28/2012'), ('Units Sold', '1593'), ('Unit Price', '9.33'), ('Unit Cost', '6.92'), ('Total Revenue', '14862.69'), ('Total Cost', '11023.56'), ('Total Profit', '3839.13')])\n",
      "Tiempo de ejecución 12.184737410000011 segundos\n"
     ]
    }
   ],
   "source": [
    "tic = time.process_time()\n",
    "data = []\n",
    "with open('/home/tparicio/Documentos/Jupyter Notebook/1500000 Sales Records.csv') as f:\n",
    "    reader = csv.DictReader(f)\n",
    "    data = [r for r in reader]\n",
    "\n",
    "# print how many results have data\n",
    "print(len(data))\n",
    "# print first result as sample\n",
    "print(data[0])\n",
    "# print execution time\n",
    "seconds = time.process_time() - tic\n",
    "print('Tiempo de ejecución {} segundos'.format(seconds))"
   ]
  },
  {
   "cell_type": "markdown",
   "metadata": {},
   "source": [
    "As a dictionary we can access values with keys"
   ]
  },
  {
   "cell_type": "code",
   "execution_count": 24,
   "metadata": {},
   "outputs": [
    {
     "data": {
      "text/plain": [
       "'South Africa'"
      ]
     },
     "execution_count": 24,
     "metadata": {},
     "output_type": "execute_result"
    }
   ],
   "source": [
    "data[0]['Country']"
   ]
  },
  {
   "cell_type": "markdown",
   "metadata": {},
   "source": [
    "# Pandas\n",
    "Read CSV with Pandas a DataFrame is a most eficient way to access CSV data"
   ]
  },
  {
   "cell_type": "code",
   "execution_count": 44,
   "metadata": {},
   "outputs": [
    {
     "name": "stdout",
     "output_type": "stream",
     "text": [
      "1500000\n",
      "Region            Sub-Saharan Africa\n",
      "Country                 South Africa\n",
      "Item Type                     Fruits\n",
      "Sales Channel                Offline\n",
      "Order Priority                     M\n",
      "Order Date                 7/27/2012\n",
      "Order ID                   443368995\n",
      "Ship Date                  7/28/2012\n",
      "Units Sold                      1593\n",
      "Unit Price                      9.33\n",
      "Unit Cost                       6.92\n",
      "Total Revenue                14862.7\n",
      "Total Cost                   11023.6\n",
      "Total Profit                 3839.13\n",
      "Name: 0, dtype: object\n",
      "Tiempo de ejecución 3.8285481210000114 segundos\n"
     ]
    }
   ],
   "source": [
    "import pandas as pd\n",
    "\n",
    "\n",
    "tic = time.process_time()\n",
    "\n",
    "data = pd.read_csv('/home/tparicio/Documentos/Jupyter Notebook/1500000 Sales Records.csv')\n",
    "\n",
    "# print how many results have data\n",
    "print(len(data.index))\n",
    "# print first result as sample\n",
    "print(data.iloc[0])\n",
    "# print execution time\n",
    "seconds = time.process_time() - tic\n",
    "print('Tiempo de ejecución {} segundos'.format(seconds))"
   ]
  },
  {
   "cell_type": "markdown",
   "metadata": {},
   "source": [
    "DataFrame can access data by row and key"
   ]
  },
  {
   "cell_type": "code",
   "execution_count": 29,
   "metadata": {},
   "outputs": [
    {
     "data": {
      "text/plain": [
       "'South Africa'"
      ]
     },
     "execution_count": 29,
     "metadata": {},
     "output_type": "execute_result"
    }
   ],
   "source": [
    "data[0]['Country']"
   ]
  },
  {
   "cell_type": "code",
   "execution_count": 46,
   "metadata": {},
   "outputs": [
    {
     "name": "stdout",
     "output_type": "stream",
     "text": [
      "0                  South Africa\n",
      "1                       Morocco\n",
      "2              Papua New Guinea\n",
      "3                      Djibouti\n",
      "4                      Slovakia\n",
      "5                     Sri Lanka\n",
      "6                   Seychelles \n",
      "7                      Tanzania\n",
      "8                         Ghana\n",
      "9                      Tanzania\n",
      "10                       Taiwan\n",
      "11                      Algeria\n",
      "12                    Singapore\n",
      "13             Papua New Guinea\n",
      "14                      Vietnam\n",
      "15                       Uganda\n",
      "16                     Zimbabwe\n",
      "17                     Ethiopia\n",
      "18                       France\n",
      "19                  The Bahamas\n",
      "20                        Haiti\n",
      "21                    Nicaragua\n",
      "22                 Turkmenistan\n",
      "23               United Kingdom\n",
      "24           Dominican Republic\n",
      "25                        China\n",
      "26                       Uganda\n",
      "27                       Kuwait\n",
      "28         United Arab Emirates\n",
      "29                      Estonia\n",
      "                   ...         \n",
      "1499970             Afghanistan\n",
      "1499971                 Liberia\n",
      "1499972              Montenegro\n",
      "1499973                 Romania\n",
      "1499974             Saint Lucia\n",
      "1499975                Honduras\n",
      "1499976              Montenegro\n",
      "1499977              Kazakhstan\n",
      "1499978                   Gabon\n",
      "1499979                 Liberia\n",
      "1499980              The Gambia\n",
      "1499981                 Bahrain\n",
      "1499982                   Sudan\n",
      "1499983                 Comoros\n",
      "1499984                  Malawi\n",
      "1499985                   Qatar\n",
      "1499986              Montenegro\n",
      "1499987                   Kenya\n",
      "1499988                  Samoa \n",
      "1499989     Trinidad and Tobago\n",
      "1499990                 Namibia\n",
      "1499991               Lithuania\n",
      "1499992                 Burundi\n",
      "1499993                 Nigeria\n",
      "1499994                  Poland\n",
      "1499995              Bangladesh\n",
      "1499996                 Denmark\n",
      "1499997                  Jordan\n",
      "1499998                Djibouti\n",
      "1499999        Papua New Guinea\n",
      "Name: Country, Length: 1500000, dtype: object\n"
     ]
    }
   ],
   "source": [
    "type(data)\n",
    "countries=data.loc[:, \"Country\"]\n",
    "print(countries)"
   ]
  },
  {
   "cell_type": "code",
   "execution_count": null,
   "metadata": {},
   "outputs": [],
   "source": []
  }
 ],
 "metadata": {
  "kernelspec": {
   "display_name": "Python 3",
   "language": "python",
   "name": "python3"
  },
  "language_info": {
   "codemirror_mode": {
    "name": "ipython",
    "version": 3
   },
   "file_extension": ".py",
   "mimetype": "text/x-python",
   "name": "python",
   "nbconvert_exporter": "python",
   "pygments_lexer": "ipython3",
   "version": "3.7.3"
  }
 },
 "nbformat": 4,
 "nbformat_minor": 2
}
